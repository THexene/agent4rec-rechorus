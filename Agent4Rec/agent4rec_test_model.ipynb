{
 "cells": [
  {
   "cell_type": "code",
   "execution_count": 1,
   "metadata": {},
   "outputs": [],
   "source": [
    "import torch\n",
    "import torch.nn as nn"
   ]
  },
  {
   "cell_type": "code",
   "execution_count": 2,
   "metadata": {},
   "outputs": [
    {
     "name": "stdout",
     "output_type": "stream",
     "text": [
      "<class 'dict'>\n"
     ]
    }
   ],
   "source": [
    "# model_path = 'recommenders/weights/ml-1m/MF/1221__t0p0_Ks=20_patience=10_n_layers=0_batch_size=2048_neg_sample=1_lr=0.0005/epoch=84.checkpoint.pth.tar'\n",
    "model_path = '../converted_models/rechorus_test_model_2.checkpoint.pth.tar'\n",
    "model = torch.load(model_path, map_location=torch.device('cuda:0'))\n",
    "\n",
    "\n",
    "print(type(model))\n",
    "# model.eval()"
   ]
  },
  {
   "cell_type": "code",
   "execution_count": 3,
   "metadata": {},
   "outputs": [
    {
     "name": "stdout",
     "output_type": "stream",
     "text": [
      "{'epoch': 24, 'state_dict': {'embed_user.weight': tensor([[ 1.3457e-40, -1.3715e-40, -4.9153e-41,  ..., -4.9208e-41,\n",
      "         -5.8085e-41,  4.9068e-41],\n",
      "        [-8.0531e-12,  3.4935e-12, -4.5836e-13,  ...,  7.8223e-12,\n",
      "          6.0987e-11,  2.4910e-11],\n",
      "        [ 4.7709e-12, -9.9868e-13, -6.6825e-12,  ..., -1.6395e-12,\n",
      "         -9.5571e-12,  3.0558e-12],\n",
      "        ...,\n",
      "        [ 4.4891e-05,  8.5447e-06,  2.8027e-05,  ..., -2.8060e-05,\n",
      "          4.4995e-05,  5.0133e-06],\n",
      "        [ 1.5312e-27, -3.1159e-28, -9.6359e-28,  ...,  2.0682e-27,\n",
      "          3.0096e-28, -3.9089e-28],\n",
      "        [ 3.8235e-08, -1.8879e-07, -3.2341e-07,  ..., -3.4995e-07,\n",
      "         -8.6122e-08, -1.6389e-08]], device='cuda:0'), 'embed_item.weight': tensor([[ 4.9094e-41,  5.0702e-41,  5.1079e-41,  ..., -6.8608e-42,\n",
      "         -1.0482e-41, -5.9219e-41],\n",
      "        [ 1.2521e-02,  5.0602e-03, -3.0178e-03,  ...,  6.1664e-03,\n",
      "          2.0638e-02, -7.2557e-03],\n",
      "        [ 1.8515e-02,  3.2434e-02, -4.6867e-03,  ..., -4.1160e-02,\n",
      "         -3.2006e-02, -4.8762e-02],\n",
      "        ...,\n",
      "        [-2.0920e-02,  3.7038e-03, -8.0364e-03,  ...,  8.9573e-03,\n",
      "         -1.8811e-03, -1.6396e-02],\n",
      "        [ 1.7045e-03, -5.6714e-03, -1.2833e-02,  ...,  6.6055e-03,\n",
      "         -3.0408e-03, -5.7103e-03],\n",
      "        [-1.1221e-02,  8.2971e-03,  2.0461e-03,  ..., -6.1832e-03,\n",
      "         -1.3083e-02, -9.8098e-03]], device='cuda:0')}}\n"
     ]
    }
   ],
   "source": [
    "print(model)"
   ]
  },
  {
   "cell_type": "code",
   "execution_count": 4,
   "metadata": {},
   "outputs": [
    {
     "name": "stdout",
     "output_type": "stream",
     "text": [
      "epoch\n",
      "state_dict\n"
     ]
    }
   ],
   "source": [
    "for key, _ in model.items():\n",
    "    print(key)"
   ]
  },
  {
   "cell_type": "code",
   "execution_count": 5,
   "metadata": {},
   "outputs": [
    {
     "name": "stdout",
     "output_type": "stream",
     "text": [
      "embed_user.weight\n",
      "torch.Size([1000, 64])\n",
      "embed_item.weight\n",
      "torch.Size([3292, 64])\n"
     ]
    }
   ],
   "source": [
    "for key, value in model['state_dict'].items():\n",
    "    print(key)\n",
    "    print(value.shape)"
   ]
  }
 ],
 "metadata": {
  "kernelspec": {
   "display_name": "Agent4Rec",
   "language": "python",
   "name": "python3"
  },
  "language_info": {
   "codemirror_mode": {
    "name": "ipython",
    "version": 3
   },
   "file_extension": ".py",
   "mimetype": "text/x-python",
   "name": "python",
   "nbconvert_exporter": "python",
   "pygments_lexer": "ipython3",
   "version": "3.9.12"
  }
 },
 "nbformat": 4,
 "nbformat_minor": 2
}
